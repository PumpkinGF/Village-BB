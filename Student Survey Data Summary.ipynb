{
 "cells": [
  {
   "cell_type": "code",
   "execution_count": 1,
   "metadata": {},
   "outputs": [],
   "source": [
    "# install libraries\n",
    "# !pip install gspread\n",
    "# !pip install matplotlib\n",
    "# !pip install oauth2client"
   ]
  },
  {
   "cell_type": "code",
   "execution_count": 2,
   "metadata": {},
   "outputs": [],
   "source": [
    "# pip install google-api-python-client google-auth-httplib2 google-auth-oauthlib"
   ]
  },
  {
   "cell_type": "code",
   "execution_count": 9,
   "metadata": {},
   "outputs": [],
   "source": [
    "# # import libraries\n",
    "# import pandas as pd\n",
    "# import numpy as np\n",
    "# import matplotlib.pyplot as plt\n",
    "# import gspread\n",
    "# from oauth2client.service_account import ServiceAccountCredentials\n",
    "# from oauth2client.client import GoogleCredentials"
   ]
  },
  {
   "cell_type": "code",
   "execution_count": 3,
   "metadata": {},
   "outputs": [],
   "source": [
    "# # https://youtu.be/3wC-SCdJK2c?t=507\n",
    "# import os\n",
    "# from google.auth.transport.requests import Request\n",
    "# from google.oauth2.credentials import Credentials\n",
    "# from google_auth_oauthlib.flow import InstalledAppFlow\n",
    "# from googleapiclient.discovery import build\n",
    "# from googleapiclient.errors import HttpError"
   ]
  },
  {
   "cell_type": "code",
   "execution_count": null,
   "metadata": {},
   "outputs": [],
   "source": [
    "# SCOPES = [\"https://googleapis.com/auth/spreadsheets.readonly\"]\n",
    "# SPREADSHEET_ID = \"1b9yRWonjluWSq9TxpLf9m-vecrnZtN_BzxptGwhuteM/edit?resourcekey#gid=1191109888\""
   ]
  },
  {
   "cell_type": "markdown",
   "metadata": {},
   "source": [
    "# Ignore everything above. Tried to connect Python with Google Sheets with Oauth. Will continue later.\n",
    "# Now I'm downloading the dataset and deal with it locally."
   ]
  },
  {
   "cell_type": "code",
   "execution_count": 3,
   "metadata": {},
   "outputs": [],
   "source": [
    "# Fuzz matching packages\n",
    "# !pip install thefuzz\n",
    "from thefuzz import fuzz\n",
    "from thefuzz import process"
   ]
  },
  {
   "cell_type": "code",
   "execution_count": 4,
   "metadata": {},
   "outputs": [],
   "source": [
    "import os\n",
    "import pandas as pd\n",
    "import numpy as np\n",
    "import matplotlib.pyplot as plt\n"
   ]
  },
  {
   "cell_type": "code",
   "execution_count": 5,
   "metadata": {},
   "outputs": [],
   "source": [
    "Survey_dir = 'C:/Users/gaoji/Dropbox/副业/It takes a village/Student Information Survey 23.10.27.xlsx' # most up-to-date version\n",
    "StudentList_dir = 'C:/Users/gaoji/Dropbox/副业/It takes a village/Student List.xlsx'\n",
    "LibraryList_dir = 'C:/Users/gaoji/Dropbox/副业/It takes a village/Student List.xlsx'"
   ]
  },
  {
   "cell_type": "code",
   "execution_count": 10,
   "metadata": {},
   "outputs": [],
   "source": [
    "SurveyDF = pd.read_excel(Survey_dir, sheet_name = \"Form Responses 1\")\n",
    "StudentListDF = pd.read_excel(StudentList_dir, sheet_name = \"Active Student List\")\n",
    "LibraryListDF = pd.read_excel(LibraryList_dir, sheet_name = \"Overview\")"
   ]
  },
  {
   "cell_type": "code",
   "execution_count": 11,
   "metadata": {},
   "outputs": [],
   "source": [
    "# List of libraries of interest\n",
    "libs_of_interest = ['Adeiso', \n",
    "                    'Sankubanase', \n",
    "                    'Ahero', \n",
    "                    'Maragoli', \n",
    "                    'Biwi', \n",
    "                    'Dzaleka', \n",
    "                    'Kadzakalowa', \n",
    "                    'Namalimwe', \n",
    "                    'Charity Centre', \n",
    "                    'High Tech',\n",
    "                    'Jollyland',\n",
    "                    'Mukono',\n",
    "                    'Little Flower', \n",
    "                    'Cuchapa', \n",
    "                    'Darwin']\n",
    "\n",
    "condition = LibraryListDF['Library'].isin(libs_of_interest)\n",
    "Lib_filtered = LibraryListDF[condition]\n",
    "Lib_filtered = Lib_filtered[['Library', 'Country', 'count', 'Librarains', 'Sent']]"
   ]
  },
  {
   "cell_type": "code",
   "execution_count": 12,
   "metadata": {},
   "outputs": [],
   "source": [
    "# Generate new columns in StudentListDF to store survey-related info\n",
    "StudentListDF['Student Survey Completed'] = 'No'\n",
    "StudentListDF[\"Survey Name Error\"] = ''\n",
    "StudentListDF[\"Survey Completion Time\"] = ''\n",
    "\n",
    "# generate my own last name first name list, compare it to survey name\n",
    "StudentListDF[\"last_first reverse\"] = StudentListDF['last_name'] + ' ' + StudentListDF['first_name']"
   ]
  },
  {
   "cell_type": "code",
   "execution_count": 16,
   "metadata": {
    "scrolled": true
   },
   "outputs": [],
   "source": [
    "# Fuzzy matching\n",
    "MatchingNameList_StuList = []\n",
    "MatchingNameList_Survey = []\n",
    "for i in range(len(StudentListDF[\"user_name\"])):\n",
    "    for j in range(len(SurveyDF[\"I-1. What's your full name?\"])):\n",
    "        \n",
    "        # compare survey name with user name: perfect match\n",
    "        if fuzz.ratio(StudentListDF[\"user_name\"][i],SurveyDF[\"I-1. What's your full name?\"][j]) == 100:\n",
    "            StudentListDF.loc[i, 'Student Survey Completed'] =  \"Completed\"\n",
    "            StudentListDF.loc[i, 'Survey Completion Time'] = SurveyDF[\"Timestamp\"][j]\n",
    "        \n",
    "        # compare survey name with user name: not perfect match\n",
    "        elif (fuzz.ratio(StudentListDF[\"user_name\"][i],SurveyDF[\"I-1. What's your full name?\"][j]) >= 80) and (fuzz.ratio(StudentListDF[\"user_name\"][i],SurveyDF[\"I-1. What's your full name?\"][j]) < 100):\n",
    "            StudentListDF.loc[i, 'Student Survey Completed'] =  \"Need Verification\"\n",
    "            StudentListDF.loc[i, \"Survey Name Error\"] = SurveyDF[\"I-1. What's your full name?\"][j]\n",
    "            StudentListDF.loc[i, 'Survey Completion Time'] = SurveyDF[\"Timestamp\"][j]\n",
    "        \n",
    "        # compare survey name with last_first reverse\n",
    "        elif fuzz.ratio(StudentListDF[\"last_first reverse\"][i],SurveyDF[\"I-1. What's your full name?\"][j]) >= 90:\n",
    "            StudentListDF.loc[i, 'Student Survey Completed'] =  \"Need Verification\"\n",
    "            StudentListDF.loc[i, \"Survey Name Error\"] = SurveyDF[\"I-1. What's your full name?\"][j]\n",
    "            StudentListDF.loc[i, 'Survey Completion Time'] = SurveyDF[\"Timestamp\"][j]\n",
    "            \n",
    "SurveyCompletion_df = StudentListDF[['user_name', 'library_name', 'first_name','last_name', 'Drop-out', 'Student Survey Completed', 'Survey Name Error', 'Survey Completion Time']]\n",
    "SurveyCompletion_df.to_excel('SurveyCompletion.xlsx', index = False)\n",
    "# print(len(MatchingNameList_Survey))"
   ]
  },
  {
   "cell_type": "code",
   "execution_count": null,
   "metadata": {},
   "outputs": [],
   "source": []
  }
 ],
 "metadata": {
  "kernelspec": {
   "display_name": "Python 3 (ipykernel)",
   "language": "python",
   "name": "python3"
  },
  "language_info": {
   "codemirror_mode": {
    "name": "ipython",
    "version": 3
   },
   "file_extension": ".py",
   "mimetype": "text/x-python",
   "name": "python",
   "nbconvert_exporter": "python",
   "pygments_lexer": "ipython3",
   "version": "3.10.9"
  }
 },
 "nbformat": 4,
 "nbformat_minor": 2
}
